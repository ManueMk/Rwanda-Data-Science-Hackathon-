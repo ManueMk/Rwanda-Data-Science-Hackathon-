{
 "cells": [
  {
   "cell_type": "markdown",
   "id": "d55c6f7a-e526-4c86-886a-dd9c90c52629",
   "metadata": {},
   "source": [
    "# Evaluation\n",
    "\n",
    "In this hackathon, you will use this notebook to evaluate the performance of your machine learning pipeline. The notebook is designed to assess the entire pipeline, from data preprocessing to making predictions, ensuring that your solution is practical, efficient, and accurate.\n",
    "\n",
    "**Important Note:**\n",
    "- The evaluation runs on a `multiple` CPU cores .\n",
    "- It assesses the pipeline’s performance as a whole, not just the final model’s predictions."
   ]
  },
  {
   "cell_type": "markdown",
   "id": "b945e138-7318-4f0b-b54d-bbe4d77954e6",
   "metadata": {},
   "source": [
    "### 1. What the Evaluation Measures\n",
    "\n",
    "The notebook evaluates your pipeline on several metrics:\n",
    "\n",
    "#### **1.\tAccuracy and Model Performance:**\n",
    "\n",
    "- **Accuracy**: How many predictions were correct.\n",
    "- **F1 Score**: A balanced measure of precision and recall, especially for imbalanced datasets.\n",
    "- **Confusion Matrix**: A detailed breakdown of your model’s predictions across the following classes:\n",
    "    - `Priority`: The most important class, representing clear and usable images. Misclassifying these has the greatest negative impact.\n",
    "\t- `Noisy` & `Blurry`: Impure images that could potentially be recovered through preprocessing. Errors here are less critical but still significant.\n",
    "\t- `Corrupt` & `Missing_Data`: The least important classes, representing images with severe issues or no usable data. Misclassifications here have the smallest impact.\n",
    "\n",
    "\n",
    "#### **2. Evaluation Time:**\n",
    "\n",
    "- **What we measure**: How long your pipeline takes to preprocess the data and make predictions.\n",
    "- **Multiple CPU Core**: The evaluation runs on a `multiple` CPU cores, not just for fairness, but to simulate a resource-constrained environment where computational resources are limited.\n",
    "- **Why it matters**: Faster pipelines are more practical and scalable, especially in environments with strict performance or resource limitations.\n",
    "\n",
    "#### **3. Memory Usage:**\n",
    "\n",
    "- **Peak Memory Usage:** Maximum memory used during pipeline execution.\n",
    "- **Average CPU Usage:** Percentage of a single core used throughout the process.\n",
    "- **Why it matters:** CubeSat will use a processor with limited memory, and the memory utilization must fit within available memory.\n",
    "\n",
    "#### **4. Algorithm Code Size:**\n",
    "\n",
    "- The total size of your pipeline, including the serialized model and preprocessing function, measured in megabytes (MB).\n",
    "- Algorithm code must fit within a limited available memory"
   ]
  },
  {
   "cell_type": "markdown",
   "id": "723c8ecc-b376-4524-9095-874d95e62f1c",
   "metadata": {},
   "source": [
    "### Necessaries packages\n",
    "\n",
    "We will import the differents libraries used in this notebook.\n"
   ]
  },
  {
   "cell_type": "code",
   "execution_count": 50,
   "id": "0317f752-600f-4e60-881a-c722bc6aae80",
   "metadata": {},
   "outputs": [],
   "source": [
    "import numpy as np\n",
    "import tensorflow as tf\n",
    "from tensorflow.keras import layers, models\n",
    "from sklearn.preprocessing import LabelEncoder\n",
    "from sklearn.model_selection import train_test_split\n",
    "from tensorflow.keras.utils import to_categorical\n",
    "from sklearn.metrics import classification_report, confusion_matrix\n",
    "import pickle\n",
    "from joblib import Parallel, delayed\n",
    "import multiprocessing\n",
    "\n",
    "\n",
    "from source.evaluate import evaluate_pipeline"
   ]
  },
  {
   "cell_type": "code",
   "execution_count": 51,
   "id": "7809adbe-2a4e-4489-aeaf-f0c39c92e287",
   "metadata": {},
   "outputs": [],
   "source": [
    "import numpy as np\n",
    "# first let us load the testing data\n",
    "test_images = np.load('data/test_images.npy')      # Load image test data\n",
    "test_labels = np.load('data/test_labels.npy')      # Load label test data"
   ]
  },
  {
   "cell_type": "markdown",
   "id": "328c5245-a7b9-4f00-a58e-66da7e131059",
   "metadata": {},
   "source": [
    "### 2. ML: Evaluation (3rd notebook)\n",
    "\n",
    "#### Preprocessing (Testing data)\n",
    "\n"
   ]
  },
  {
   "cell_type": "code",
   "execution_count": 52,
   "id": "eb0e0d11-fc60-48e8-b94c-5fcf153ce4a4",
   "metadata": {},
   "outputs": [],
   "source": [
    "# Preprocessing function for traditional ML\n",
    "def preprocess_image_for_ml(image, target_size=(64, 64)):\n",
    "    \"\"\"\n",
    "    Preprocesses an image for traditional ML by resizing, normalizing, and flattening.\n",
    "    \n",
    "    Parameters:\n",
    "    - image: Input image (numpy array)\n",
    "    - target_size: Tuple of (height, width) to resize the image (default: 64x64)\n",
    "    \n",
    "    Returns:\n",
    "    - Flattened 1D array of preprocessed image\n",
    "    \"\"\"\n",
    "    # Convert image to tensor for preprocessing\n",
    "    img = tf.cast(image, tf.float32) / 255.0  # Normalize to [0, 1]\n",
    "    img = tf.image.resize(img, target_size)  # Resize to reduce dimensionality\n",
    "    img = tf.image.adjust_contrast(img, contrast_factor=1.5)  # Enhance contrast\n",
    "    img = tf.clip_by_value(img, 0.0, 1.0)  # Clip values\n",
    "    \n",
    "    # Convert to numpy and flatten\n",
    "    img = img.numpy().flatten()\n",
    "    return img\n",
    "\n",
    "# Function to preprocess the entire dataset with parallelization\n",
    "def preprocess_dataset_for_ml(images, target_size=(64, 64), n_jobs=-1):\n",
    "    \"\"\"\n",
    "    Preprocesses an entire dataset for traditional ML using parallel processing.\n",
    "    \n",
    "    Parameters:\n",
    "    - images: NumPy array of images\n",
    "    - target_size: Tuple of (height, width) for resizing\n",
    "    - n_jobs: Number of parallel jobs (default: -1, use all available cores)\n",
    "    \n",
    "    Returns:\n",
    "    - Preprocessed feature matrix (n_samples, n_features)\n",
    "    \"\"\"\n",
    "    # Use Parallel to process images across multiple cores\n",
    "    preprocessed_images = Parallel(n_jobs=n_jobs, verbose=1)(\n",
    "        delayed(preprocess_image_for_ml)(img, target_size) for img in images\n",
    "    )\n",
    "    # Stack into a feature matrix\n",
    "    return np.array(preprocessed_images)"
   ]
  },
  {
   "cell_type": "code",
   "execution_count": 53,
   "id": "e5a3306b-afcc-4441-bf8c-5755521c39b1",
   "metadata": {
    "scrolled": true
   },
   "outputs": [
    {
     "name": "stdout",
     "output_type": "stream",
     "text": [
      "Using 16 CPU cores for parallel preprocessing...\n",
      "Preprocessing test images...\n"
     ]
    },
    {
     "name": "stderr",
     "output_type": "stream",
     "text": [
      "[Parallel(n_jobs=16)]: Using backend LokyBackend with 16 concurrent workers.\n",
      "2025-04-17 12:25:52.659501: I external/local_xla/xla/tsl/cuda/cudart_stub.cc:32] Could not find cuda drivers on your machine, GPU will not be used.\n",
      "2025-04-17 12:25:52.685836: I external/local_xla/xla/tsl/cuda/cudart_stub.cc:32] Could not find cuda drivers on your machine, GPU will not be used.\n",
      "2025-04-17 12:25:52.823287: E external/local_xla/xla/stream_executor/cuda/cuda_fft.cc:485] Unable to register cuFFT factory: Attempting to register factory for plugin cuFFT when one has already been registered\n",
      "2025-04-17 12:25:52.971123: E external/local_xla/xla/stream_executor/cuda/cuda_dnn.cc:8454] Unable to register cuDNN factory: Attempting to register factory for plugin cuDNN when one has already been registered\n",
      "2025-04-17 12:25:53.013646: E external/local_xla/xla/stream_executor/cuda/cuda_blas.cc:1452] Unable to register cuBLAS factory: Attempting to register factory for plugin cuBLAS when one has already been registered\n",
      "2025-04-17 12:25:53.130029: I tensorflow/core/platform/cpu_feature_guard.cc:210] This TensorFlow binary is optimized to use available CPU instructions in performance-critical operations.\n",
      "To enable the following instructions: AVX2 AVX512F FMA, in other operations, rebuild TensorFlow with the appropriate compiler flags.\n",
      "2025-04-17 12:25:59.687732: I external/local_xla/xla/tsl/cuda/cudart_stub.cc:32] Could not find cuda drivers on your machine, GPU will not be used.\n",
      "2025-04-17 12:25:59.700799: I external/local_xla/xla/tsl/cuda/cudart_stub.cc:32] Could not find cuda drivers on your machine, GPU will not be used.\n",
      "2025-04-17 12:25:59.760993: I external/local_xla/xla/tsl/cuda/cudart_stub.cc:32] Could not find cuda drivers on your machine, GPU will not be used.\n",
      "2025-04-17 12:25:59.798443: I external/local_xla/xla/tsl/cuda/cudart_stub.cc:32] Could not find cuda drivers on your machine, GPU will not be used.\n",
      "2025-04-17 12:25:59.810234: I external/local_xla/xla/tsl/cuda/cudart_stub.cc:32] Could not find cuda drivers on your machine, GPU will not be used.\n",
      "2025-04-17 12:25:59.824949: I external/local_xla/xla/tsl/cuda/cudart_stub.cc:32] Could not find cuda drivers on your machine, GPU will not be used.\n",
      "2025-04-17 12:25:59.828969: I external/local_xla/xla/tsl/cuda/cudart_stub.cc:32] Could not find cuda drivers on your machine, GPU will not be used.\n",
      "2025-04-17 12:25:59.833227: I external/local_xla/xla/tsl/cuda/cudart_stub.cc:32] Could not find cuda drivers on your machine, GPU will not be used.\n",
      "2025-04-17 12:25:59.911373: I external/local_xla/xla/tsl/cuda/cudart_stub.cc:32] Could not find cuda drivers on your machine, GPU will not be used.\n",
      "2025-04-17 12:25:59.919704: I external/local_xla/xla/tsl/cuda/cudart_stub.cc:32] Could not find cuda drivers on your machine, GPU will not be used.\n",
      "2025-04-17 12:25:59.938520: I external/local_xla/xla/tsl/cuda/cudart_stub.cc:32] Could not find cuda drivers on your machine, GPU will not be used.\n",
      "2025-04-17 12:25:59.939285: I external/local_xla/xla/tsl/cuda/cudart_stub.cc:32] Could not find cuda drivers on your machine, GPU will not be used.\n",
      "2025-04-17 12:25:59.943920: I external/local_xla/xla/tsl/cuda/cudart_stub.cc:32] Could not find cuda drivers on your machine, GPU will not be used.\n",
      "2025-04-17 12:25:59.955387: I external/local_xla/xla/tsl/cuda/cudart_stub.cc:32] Could not find cuda drivers on your machine, GPU will not be used.\n",
      "2025-04-17 12:25:59.959697: I external/local_xla/xla/tsl/cuda/cudart_stub.cc:32] Could not find cuda drivers on your machine, GPU will not be used.\n",
      "2025-04-17 12:25:59.983512: I external/local_xla/xla/tsl/cuda/cudart_stub.cc:32] Could not find cuda drivers on your machine, GPU will not be used.\n",
      "2025-04-17 12:26:00.023491: I external/local_xla/xla/tsl/cuda/cudart_stub.cc:32] Could not find cuda drivers on your machine, GPU will not be used.\n",
      "2025-04-17 12:26:00.028333: I external/local_xla/xla/tsl/cuda/cudart_stub.cc:32] Could not find cuda drivers on your machine, GPU will not be used.\n",
      "2025-04-17 12:26:00.040800: I external/local_xla/xla/tsl/cuda/cudart_stub.cc:32] Could not find cuda drivers on your machine, GPU will not be used.\n",
      "2025-04-17 12:26:00.052312: E external/local_xla/xla/stream_executor/cuda/cuda_fft.cc:485] Unable to register cuFFT factory: Attempting to register factory for plugin cuFFT when one has already been registered\n",
      "2025-04-17 12:26:00.055892: E external/local_xla/xla/stream_executor/cuda/cuda_fft.cc:485] Unable to register cuFFT factory: Attempting to register factory for plugin cuFFT when one has already been registered\n",
      "2025-04-17 12:26:00.070491: E external/local_xla/xla/stream_executor/cuda/cuda_fft.cc:485] Unable to register cuFFT factory: Attempting to register factory for plugin cuFFT when one has already been registered\n",
      "2025-04-17 12:26:00.100578: I external/local_xla/xla/tsl/cuda/cudart_stub.cc:32] Could not find cuda drivers on your machine, GPU will not be used.\n",
      "2025-04-17 12:26:00.121287: E external/local_xla/xla/stream_executor/cuda/cuda_fft.cc:485] Unable to register cuFFT factory: Attempting to register factory for plugin cuFFT when one has already been registered\n",
      "2025-04-17 12:26:00.165431: E external/local_xla/xla/stream_executor/cuda/cuda_fft.cc:485] Unable to register cuFFT factory: Attempting to register factory for plugin cuFFT when one has already been registered\n",
      "2025-04-17 12:26:00.189704: E external/local_xla/xla/stream_executor/cuda/cuda_fft.cc:485] Unable to register cuFFT factory: Attempting to register factory for plugin cuFFT when one has already been registered\n",
      "2025-04-17 12:26:00.234259: E external/local_xla/xla/stream_executor/cuda/cuda_fft.cc:485] Unable to register cuFFT factory: Attempting to register factory for plugin cuFFT when one has already been registered\n",
      "2025-04-17 12:26:00.265258: E external/local_xla/xla/stream_executor/cuda/cuda_fft.cc:485] Unable to register cuFFT factory: Attempting to register factory for plugin cuFFT when one has already been registered\n",
      "2025-04-17 12:26:00.283661: E external/local_xla/xla/stream_executor/cuda/cuda_fft.cc:485] Unable to register cuFFT factory: Attempting to register factory for plugin cuFFT when one has already been registered\n",
      "2025-04-17 12:26:00.343637: E external/local_xla/xla/stream_executor/cuda/cuda_fft.cc:485] Unable to register cuFFT factory: Attempting to register factory for plugin cuFFT when one has already been registered\n",
      "2025-04-17 12:26:00.379223: E external/local_xla/xla/stream_executor/cuda/cuda_dnn.cc:8454] Unable to register cuDNN factory: Attempting to register factory for plugin cuDNN when one has already been registered\n",
      "2025-04-17 12:26:00.466560: E external/local_xla/xla/stream_executor/cuda/cuda_dnn.cc:8454] Unable to register cuDNN factory: Attempting to register factory for plugin cuDNN when one has already been registered\n",
      "2025-04-17 12:26:00.468239: E external/local_xla/xla/stream_executor/cuda/cuda_dnn.cc:8454] Unable to register cuDNN factory: Attempting to register factory for plugin cuDNN when one has already been registered\n",
      "2025-04-17 12:26:00.487484: E external/local_xla/xla/stream_executor/cuda/cuda_dnn.cc:8454] Unable to register cuDNN factory: Attempting to register factory for plugin cuDNN when one has already been registered\n",
      "2025-04-17 12:26:00.497106: E external/local_xla/xla/stream_executor/cuda/cuda_blas.cc:1452] Unable to register cuBLAS factory: Attempting to register factory for plugin cuBLAS when one has already been registered\n",
      "2025-04-17 12:26:00.510314: E external/local_xla/xla/stream_executor/cuda/cuda_blas.cc:1452] Unable to register cuBLAS factory: Attempting to register factory for plugin cuBLAS when one has already been registered\n",
      "2025-04-17 12:26:00.522047: E external/local_xla/xla/stream_executor/cuda/cuda_dnn.cc:8454] Unable to register cuDNN factory: Attempting to register factory for plugin cuDNN when one has already been registered\n",
      "2025-04-17 12:26:00.526946: E external/local_xla/xla/stream_executor/cuda/cuda_dnn.cc:8454] Unable to register cuDNN factory: Attempting to register factory for plugin cuDNN when one has already been registered\n",
      "2025-04-17 12:26:00.532985: E external/local_xla/xla/stream_executor/cuda/cuda_blas.cc:1452] Unable to register cuBLAS factory: Attempting to register factory for plugin cuBLAS when one has already been registered\n",
      "2025-04-17 12:26:00.561441: E external/local_xla/xla/stream_executor/cuda/cuda_dnn.cc:8454] Unable to register cuDNN factory: Attempting to register factory for plugin cuDNN when one has already been registered\n",
      "2025-04-17 12:26:00.565702: E external/local_xla/xla/stream_executor/cuda/cuda_blas.cc:1452] Unable to register cuBLAS factory: Attempting to register factory for plugin cuBLAS when one has already been registered\n",
      "2025-04-17 12:26:00.585914: E external/local_xla/xla/stream_executor/cuda/cuda_dnn.cc:8454] Unable to register cuDNN factory: Attempting to register factory for plugin cuDNN when one has already been registered\n",
      "2025-04-17 12:26:00.593507: E external/local_xla/xla/stream_executor/cuda/cuda_blas.cc:1452] Unable to register cuBLAS factory: Attempting to register factory for plugin cuBLAS when one has already been registered\n",
      "2025-04-17 12:26:00.597686: E external/local_xla/xla/stream_executor/cuda/cuda_dnn.cc:8454] Unable to register cuDNN factory: Attempting to register factory for plugin cuDNN when one has already been registered\n",
      "2025-04-17 12:26:00.655519: E external/local_xla/xla/stream_executor/cuda/cuda_blas.cc:1452] Unable to register cuBLAS factory: Attempting to register factory for plugin cuBLAS when one has already been registered\n",
      "2025-04-17 12:26:00.675846: E external/local_xla/xla/stream_executor/cuda/cuda_blas.cc:1452] Unable to register cuBLAS factory: Attempting to register factory for plugin cuBLAS when one has already been registered\n",
      "2025-04-17 12:26:00.682345: E external/local_xla/xla/stream_executor/cuda/cuda_dnn.cc:8454] Unable to register cuDNN factory: Attempting to register factory for plugin cuDNN when one has already been registered\n",
      "2025-04-17 12:26:00.695338: E external/local_xla/xla/stream_executor/cuda/cuda_blas.cc:1452] Unable to register cuBLAS factory: Attempting to register factory for plugin cuBLAS when one has already been registered\n",
      "2025-04-17 12:26:00.712150: E external/local_xla/xla/stream_executor/cuda/cuda_blas.cc:1452] Unable to register cuBLAS factory: Attempting to register factory for plugin cuBLAS when one has already been registered\n",
      "2025-04-17 12:26:00.774485: I tensorflow/core/platform/cpu_feature_guard.cc:210] This TensorFlow binary is optimized to use available CPU instructions in performance-critical operations.\n",
      "To enable the following instructions: AVX2 AVX512F FMA, in other operations, rebuild TensorFlow with the appropriate compiler flags.\n",
      "2025-04-17 12:26:00.788860: I tensorflow/core/platform/cpu_feature_guard.cc:210] This TensorFlow binary is optimized to use available CPU instructions in performance-critical operations.\n",
      "To enable the following instructions: AVX2 AVX512F FMA, in other operations, rebuild TensorFlow with the appropriate compiler flags.\n",
      "2025-04-17 12:26:00.795016: I external/local_xla/xla/tsl/cuda/cudart_stub.cc:32] Could not find cuda drivers on your machine, GPU will not be used.\n",
      "2025-04-17 12:26:00.804449: E external/local_xla/xla/stream_executor/cuda/cuda_blas.cc:1452] Unable to register cuBLAS factory: Attempting to register factory for plugin cuBLAS when one has already been registered\n",
      "2025-04-17 12:26:00.836368: I tensorflow/core/platform/cpu_feature_guard.cc:210] This TensorFlow binary is optimized to use available CPU instructions in performance-critical operations.\n",
      "To enable the following instructions: AVX2 AVX512F FMA, in other operations, rebuild TensorFlow with the appropriate compiler flags.\n",
      "2025-04-17 12:26:00.842573: I tensorflow/core/platform/cpu_feature_guard.cc:210] This TensorFlow binary is optimized to use available CPU instructions in performance-critical operations.\n",
      "To enable the following instructions: AVX2 AVX512F FMA, in other operations, rebuild TensorFlow with the appropriate compiler flags.\n",
      "2025-04-17 12:26:00.842841: I tensorflow/core/platform/cpu_feature_guard.cc:210] This TensorFlow binary is optimized to use available CPU instructions in performance-critical operations.\n",
      "To enable the following instructions: AVX2 AVX512F FMA, in other operations, rebuild TensorFlow with the appropriate compiler flags.\n",
      "2025-04-17 12:26:00.911662: I external/local_xla/xla/tsl/cuda/cudart_stub.cc:32] Could not find cuda drivers on your machine, GPU will not be used.\n",
      "2025-04-17 12:26:00.965688: I tensorflow/core/platform/cpu_feature_guard.cc:210] This TensorFlow binary is optimized to use available CPU instructions in performance-critical operations.\n",
      "To enable the following instructions: AVX2 AVX512F FMA, in other operations, rebuild TensorFlow with the appropriate compiler flags.\n",
      "2025-04-17 12:26:00.972849: I tensorflow/core/platform/cpu_feature_guard.cc:210] This TensorFlow binary is optimized to use available CPU instructions in performance-critical operations.\n",
      "To enable the following instructions: AVX2 AVX512F FMA, in other operations, rebuild TensorFlow with the appropriate compiler flags.\n",
      "2025-04-17 12:26:00.994606: I tensorflow/core/platform/cpu_feature_guard.cc:210] This TensorFlow binary is optimized to use available CPU instructions in performance-critical operations.\n",
      "To enable the following instructions: AVX2 AVX512F FMA, in other operations, rebuild TensorFlow with the appropriate compiler flags.\n",
      "2025-04-17 12:26:01.002337: I tensorflow/core/platform/cpu_feature_guard.cc:210] This TensorFlow binary is optimized to use available CPU instructions in performance-critical operations.\n",
      "To enable the following instructions: AVX2 AVX512F FMA, in other operations, rebuild TensorFlow with the appropriate compiler flags.\n",
      "2025-04-17 12:26:01.025102: I tensorflow/core/platform/cpu_feature_guard.cc:210] This TensorFlow binary is optimized to use available CPU instructions in performance-critical operations.\n",
      "To enable the following instructions: AVX2 AVX512F FMA, in other operations, rebuild TensorFlow with the appropriate compiler flags.\n",
      "2025-04-17 12:26:01.105493: E external/local_xla/xla/stream_executor/cuda/cuda_fft.cc:485] Unable to register cuFFT factory: Attempting to register factory for plugin cuFFT when one has already been registered\n",
      "2025-04-17 12:26:01.424778: E external/local_xla/xla/stream_executor/cuda/cuda_dnn.cc:8454] Unable to register cuDNN factory: Attempting to register factory for plugin cuDNN when one has already been registered\n",
      "2025-04-17 12:26:01.554878: E external/local_xla/xla/stream_executor/cuda/cuda_blas.cc:1452] Unable to register cuBLAS factory: Attempting to register factory for plugin cuBLAS when one has already been registered\n",
      "2025-04-17 12:26:01.819215: I tensorflow/core/platform/cpu_feature_guard.cc:210] This TensorFlow binary is optimized to use available CPU instructions in performance-critical operations.\n",
      "To enable the following instructions: AVX2 AVX512F FMA, in other operations, rebuild TensorFlow with the appropriate compiler flags.\n",
      "2025-04-17 12:26:02.316464: I external/local_xla/xla/tsl/cuda/cudart_stub.cc:32] Could not find cuda drivers on your machine, GPU will not be used.\n",
      "2025-04-17 12:26:02.442714: I external/local_xla/xla/tsl/cuda/cudart_stub.cc:32] Could not find cuda drivers on your machine, GPU will not be used.\n",
      "2025-04-17 12:26:02.667467: E external/local_xla/xla/stream_executor/cuda/cuda_fft.cc:485] Unable to register cuFFT factory: Attempting to register factory for plugin cuFFT when one has already been registered\n",
      "2025-04-17 12:26:03.091665: E external/local_xla/xla/stream_executor/cuda/cuda_dnn.cc:8454] Unable to register cuDNN factory: Attempting to register factory for plugin cuDNN when one has already been registered\n",
      "2025-04-17 12:26:03.097410: E external/local_xla/xla/stream_executor/cuda/cuda_blas.cc:1452] Unable to register cuBLAS factory: Attempting to register factory for plugin cuBLAS when one has already been registered\n",
      "2025-04-17 12:26:03.419229: I tensorflow/core/platform/cpu_feature_guard.cc:210] This TensorFlow binary is optimized to use available CPU instructions in performance-critical operations.\n",
      "To enable the following instructions: AVX2 AVX512F FMA, in other operations, rebuild TensorFlow with the appropriate compiler flags.\n",
      "2025-04-17 12:26:03.433708: I external/local_xla/xla/tsl/cuda/cudart_stub.cc:32] Could not find cuda drivers on your machine, GPU will not be used.\n",
      "2025-04-17 12:26:03.494508: I external/local_xla/xla/tsl/cuda/cudart_stub.cc:32] Could not find cuda drivers on your machine, GPU will not be used.\n",
      "2025-04-17 12:26:03.740672: E external/local_xla/xla/stream_executor/cuda/cuda_fft.cc:485] Unable to register cuFFT factory: Attempting to register factory for plugin cuFFT when one has already been registered\n",
      "2025-04-17 12:26:04.124128: E external/local_xla/xla/stream_executor/cuda/cuda_dnn.cc:8454] Unable to register cuDNN factory: Attempting to register factory for plugin cuDNN when one has already been registered\n",
      "2025-04-17 12:26:04.130022: E external/local_xla/xla/stream_executor/cuda/cuda_blas.cc:1452] Unable to register cuBLAS factory: Attempting to register factory for plugin cuBLAS when one has already been registered\n",
      "2025-04-17 12:26:04.321710: I external/local_xla/xla/tsl/cuda/cudart_stub.cc:32] Could not find cuda drivers on your machine, GPU will not be used.\n",
      "2025-04-17 12:26:04.451672: I external/local_xla/xla/tsl/cuda/cudart_stub.cc:32] Could not find cuda drivers on your machine, GPU will not be used.\n",
      "2025-04-17 12:26:04.499650: I tensorflow/core/platform/cpu_feature_guard.cc:210] This TensorFlow binary is optimized to use available CPU instructions in performance-critical operations.\n",
      "To enable the following instructions: AVX2 AVX512F FMA, in other operations, rebuild TensorFlow with the appropriate compiler flags.\n",
      "2025-04-17 12:26:04.729952: E external/local_xla/xla/stream_executor/cuda/cuda_fft.cc:485] Unable to register cuFFT factory: Attempting to register factory for plugin cuFFT when one has already been registered\n",
      "2025-04-17 12:26:05.041355: E external/local_xla/xla/stream_executor/cuda/cuda_dnn.cc:8454] Unable to register cuDNN factory: Attempting to register factory for plugin cuDNN when one has already been registered\n",
      "2025-04-17 12:26:05.159957: E external/local_xla/xla/stream_executor/cuda/cuda_blas.cc:1452] Unable to register cuBLAS factory: Attempting to register factory for plugin cuBLAS when one has already been registered\n",
      "2025-04-17 12:26:05.406257: I tensorflow/core/platform/cpu_feature_guard.cc:210] This TensorFlow binary is optimized to use available CPU instructions in performance-critical operations.\n",
      "To enable the following instructions: AVX2 AVX512F FMA, in other operations, rebuild TensorFlow with the appropriate compiler flags.\n",
      "2025-04-17 12:26:05.475254: I external/local_xla/xla/tsl/cuda/cudart_stub.cc:32] Could not find cuda drivers on your machine, GPU will not be used.\n",
      "2025-04-17 12:26:05.580391: I external/local_xla/xla/tsl/cuda/cudart_stub.cc:32] Could not find cuda drivers on your machine, GPU will not be used.\n",
      "2025-04-17 12:26:05.786339: E external/local_xla/xla/stream_executor/cuda/cuda_fft.cc:485] Unable to register cuFFT factory: Attempting to register factory for plugin cuFFT when one has already been registered\n",
      "2025-04-17 12:26:06.157804: E external/local_xla/xla/stream_executor/cuda/cuda_dnn.cc:8454] Unable to register cuDNN factory: Attempting to register factory for plugin cuDNN when one has already been registered\n",
      "2025-04-17 12:26:06.235793: E external/local_xla/xla/stream_executor/cuda/cuda_blas.cc:1452] Unable to register cuBLAS factory: Attempting to register factory for plugin cuBLAS when one has already been registered\n",
      "2025-04-17 12:26:06.547610: I tensorflow/core/platform/cpu_feature_guard.cc:210] This TensorFlow binary is optimized to use available CPU instructions in performance-critical operations.\n",
      "To enable the following instructions: AVX2 AVX512F FMA, in other operations, rebuild TensorFlow with the appropriate compiler flags.\n",
      "2025-04-17 12:26:10.934685: W tensorflow/compiler/tf2tensorrt/utils/py_utils.cc:38] TF-TRT Warning: Could not find TensorRT\n",
      "2025-04-17 12:26:21.065499: W tensorflow/compiler/tf2tensorrt/utils/py_utils.cc:38] TF-TRT Warning: Could not find TensorRT\n",
      "2025-04-17 12:26:21.159803: W tensorflow/compiler/tf2tensorrt/utils/py_utils.cc:38] TF-TRT Warning: Could not find TensorRT\n",
      "2025-04-17 12:26:21.168792: W tensorflow/compiler/tf2tensorrt/utils/py_utils.cc:38] TF-TRT Warning: Could not find TensorRT\n",
      "2025-04-17 12:26:21.297468: W tensorflow/compiler/tf2tensorrt/utils/py_utils.cc:38] TF-TRT Warning: Could not find TensorRT\n",
      "2025-04-17 12:26:21.313934: W tensorflow/compiler/tf2tensorrt/utils/py_utils.cc:38] TF-TRT Warning: Could not find TensorRT\n",
      "2025-04-17 12:26:21.383432: W tensorflow/compiler/tf2tensorrt/utils/py_utils.cc:38] TF-TRT Warning: Could not find TensorRT\n",
      "2025-04-17 12:26:21.397332: W tensorflow/compiler/tf2tensorrt/utils/py_utils.cc:38] TF-TRT Warning: Could not find TensorRT\n",
      "2025-04-17 12:26:21.444397: W tensorflow/compiler/tf2tensorrt/utils/py_utils.cc:38] TF-TRT Warning: Could not find TensorRT\n",
      "2025-04-17 12:26:21.516795: W tensorflow/compiler/tf2tensorrt/utils/py_utils.cc:38] TF-TRT Warning: Could not find TensorRT\n",
      "2025-04-17 12:26:21.653325: W tensorflow/compiler/tf2tensorrt/utils/py_utils.cc:38] TF-TRT Warning: Could not find TensorRT\n",
      "2025-04-17 12:26:22.073596: W tensorflow/compiler/tf2tensorrt/utils/py_utils.cc:38] TF-TRT Warning: Could not find TensorRT\n",
      "2025-04-17 12:26:24.151424: W tensorflow/compiler/tf2tensorrt/utils/py_utils.cc:38] TF-TRT Warning: Could not find TensorRT\n",
      "2025-04-17 12:26:25.225591: W tensorflow/compiler/tf2tensorrt/utils/py_utils.cc:38] TF-TRT Warning: Could not find TensorRT\n",
      "2025-04-17 12:26:26.016851: W tensorflow/compiler/tf2tensorrt/utils/py_utils.cc:38] TF-TRT Warning: Could not find TensorRT\n",
      "2025-04-17 12:26:27.216695: W tensorflow/compiler/tf2tensorrt/utils/py_utils.cc:38] TF-TRT Warning: Could not find TensorRT\n",
      "[Parallel(n_jobs=16)]: Done  18 tasks      | elapsed:   51.2s\n",
      "[Parallel(n_jobs=16)]: Done 168 tasks      | elapsed:   59.7s\n",
      "[Parallel(n_jobs=16)]: Done 418 tasks      | elapsed:  1.0min\n",
      "[Parallel(n_jobs=16)]: Done 832 tasks      | elapsed:  1.1min\n",
      "[Parallel(n_jobs=16)]: Done 1732 tasks      | elapsed:  1.2min\n",
      "[Parallel(n_jobs=16)]: Done 2832 tasks      | elapsed:  1.3min\n"
     ]
    },
    {
     "name": "stdout",
     "output_type": "stream",
     "text": [
      "X_test shape: (3237, 12288), y_test shape: (3237,)\n",
      "CPU times: user 12.9 s, sys: 3.63 s, total: 16.5 s\n",
      "Wall time: 1min 20s\n"
     ]
    },
    {
     "name": "stderr",
     "output_type": "stream",
     "text": [
      "[Parallel(n_jobs=16)]: Done 3206 out of 3237 | elapsed:  1.3min remaining:    0.8s\n",
      "[Parallel(n_jobs=16)]: Done 3237 out of 3237 | elapsed:  1.3min finished\n"
     ]
    }
   ],
   "source": [
    "%%time\n",
    "\n",
    "# Encode labels\n",
    "label_encoder = LabelEncoder()\n",
    "test_labels_encoded = label_encoder.fit_transform(test_labels)\n",
    "\n",
    "# Preprocess the datasets with parallelization\n",
    "# Use a smaller target size (64x64) to reduce dimensionality for traditional ML\n",
    "target_size = (64, 64)\n",
    "num_cores = multiprocessing.cpu_count()\n",
    "print(f\"Using {num_cores} CPU cores for parallel preprocessing...\")\n",
    "\n",
    "print(\"Preprocessing test images...\")\n",
    "X_test = preprocess_dataset_for_ml(test_images, target_size, n_jobs=num_cores)\n",
    "\n",
    "# Labels are already in class index format\n",
    "y_test = test_labels_encoded\n",
    "\n",
    "# Print shapes of preprocessed data\n",
    "print(f\"X_test shape: {X_test.shape}, y_test shape: {y_test.shape}\")"
   ]
  },
  {
   "cell_type": "markdown",
   "id": "4a5982e1-4d19-4426-89ec-0849584b9170",
   "metadata": {},
   "source": [
    "#### Import ML model"
   ]
  },
  {
   "cell_type": "code",
   "execution_count": 54,
   "id": "4708d2f3-0a60-4aac-80c4-64c492ddc9fb",
   "metadata": {},
   "outputs": [],
   "source": [
    "import pickle\n",
    "# Load the ml model from the 3rd notebook\n",
    "with open('models/rf_model.pkl', 'rb') as file:\n",
    "    rf_model = pickle.load(file)"
   ]
  },
  {
   "cell_type": "markdown",
   "id": "2d956827-f96a-4a3c-830a-ad56bd48464a",
   "metadata": {},
   "source": [
    "#### ML Evaluation"
   ]
  },
  {
   "cell_type": "code",
   "execution_count": 55,
   "id": "4376ebd0-5179-497f-89ec-0740656219f5",
   "metadata": {},
   "outputs": [
    {
     "name": "stdout",
     "output_type": "stream",
     "text": [
      "Test accuracy: 0.8069\n",
      "test_predictions shape: (3237,)\n",
      "y_test shape: (3237,)\n",
      "\n",
      "Classification Report for Test Set:\n",
      "              precision    recall  f1-score   support\n",
      "\n",
      "      Blurry       0.73      0.30      0.42       668\n",
      "     Corrupt       1.00      1.00      1.00       213\n",
      "Missing_Data       0.94      0.95      0.95       414\n",
      "       Noisy       0.92      0.83      0.87       721\n",
      "    Priority       0.72      0.99      0.83      1221\n",
      "\n",
      "    accuracy                           0.81      3237\n",
      "   macro avg       0.86      0.81      0.81      3237\n",
      "weighted avg       0.81      0.81      0.78      3237\n",
      "\n"
     ]
    }
   ],
   "source": [
    "# Evaluate on test set\n",
    "test_accuracy = rf_model.score(X_test, y_test)\n",
    "print(f\"Test accuracy: {test_accuracy:.4f}\")\n",
    "\n",
    "# Make predictions on the test set\n",
    "test_predictions = rf_model.predict(X_test)\n",
    "\n",
    "# Verify shapes for debugging\n",
    "print(f\"test_predictions shape: {test_predictions.shape}\")\n",
    "print(f\"y_test shape: {y_test.shape}\")\n",
    "\n",
    "# Detailed classification report\n",
    "print(\"\\nClassification Report for Test Set:\")\n",
    "print(classification_report(y_test, test_predictions, target_names=['Blurry', 'Corrupt', 'Missing_Data', 'Noisy', 'Priority']))\n"
   ]
  },
  {
   "cell_type": "code",
   "execution_count": 56,
   "id": "459cdcce-52ca-402c-b39c-681d22cecd83",
   "metadata": {},
   "outputs": [
    {
     "name": "stderr",
     "output_type": "stream",
     "text": [
      "[Parallel(n_jobs=-1)]: Done  49 tasks      | elapsed:    0.1s\n",
      "[Parallel(n_jobs=-1)]: Done 199 tasks      | elapsed:    0.5s\n",
      "[Parallel(n_jobs=-1)]: Done 449 tasks      | elapsed:    1.0s\n",
      "[Parallel(n_jobs=-1)]: Done 799 tasks      | elapsed:    1.7s\n",
      "[Parallel(n_jobs=-1)]: Done 1249 tasks      | elapsed:    2.7s\n",
      "[Parallel(n_jobs=-1)]: Done 1799 tasks      | elapsed:    3.8s\n",
      "[Parallel(n_jobs=-1)]: Done 2449 tasks      | elapsed:    5.3s\n",
      "[Parallel(n_jobs=-1)]: Done 3199 tasks      | elapsed:    6.8s\n"
     ]
    },
    {
     "name": "stdout",
     "output_type": "stream",
     "text": [
      "\n",
      "### Evaluation Metrics ###\n",
      "\n",
      "Evaluation Time:       7.20 seconds (The time it took for the pipeline to preprocess data and make predictions.)\n",
      "Peak Memory Usage:     6502.32 MB (The maximum memory used during evaluation.)\n",
      "Average CPU Usage:     98.83 % (The % shows how much of one CPU core was used during the evaluation.)\n",
      "Algorithm code size:         15.06 MB (The size of the trained model and preprocessing function.)\n",
      "Accuracy:              0.807 (The percentage of correctly classified samples.)\n",
      "F1 Score:              0.782 (A balance of precision and recall, useful for imbalanced datasets.)\n",
      "\n",
      "### Confusion Matrix ###\n",
      "\n"
     ]
    },
    {
     "data": {
      "image/png": "[encoded data removed]",
      "text/plain": [
       "<Figure size 1000x700 with 2 Axes>"
      ]
     },
     "metadata": {},
     "output_type": "display_data"
    }
   ],
   "source": [
    "\n",
    "# Evaluate the pipeline\n",
    "metrics = evaluate_pipeline(rf_model, test_images, test_labels, preprocess_dataset_for_ml)\n",
    "\n"
   ]
  },
  {
   "cell_type": "markdown",
   "id": "c3d26d9d-ea2c-478e-ac2f-56b8a7e6595f",
   "metadata": {},
   "source": [
    "#### Evaluation Metrics\n",
    "\n",
    "Evaluation Time: 7.11 seconds - This is the time taken for the model to preprocess data and make predictions.\n",
    "\n",
    "Peak Memory Usage: 15593.62 MB - This indicates the maximum memory used during evaluation.\n",
    "\n",
    "Average CPU Usage: 84.5% - This shows the average CPU load during the evaluation.\n",
    "\n",
    "F1 Score: 0.782 - This score, which combines precision and recall, indicates the model's overall accuracy in classifying samples.\n"
   ]
  },
  {
   "cell_type": "markdown",
   "id": "853ba38d-8ba1-4d21-b73c-4014b02ac7e6",
   "metadata": {},
   "source": [
    "#### Interpretation\n",
    "\n",
    "Blurry: The model correctly identified 199 samples as \"Blurry\" but misclassified 11 as \"Noisy\" and 55 as \"Priority.\"\n",
    "\n",
    "Corrupt: The model misclassified 403 samples as \"Blurry,\" while no samples were correctly classified.\n",
    "\n",
    "Noisy: 601 samples were correctly classified as \"Noisy,\" with no misclassifications.\n",
    "\n",
    "Priority: The model correctly identified all 1207 samples as \"Priority,\" with no misclassifications.\n",
    "\n",
    "#### Summary\n",
    "\n",
    "The model performs best on the \"Priority\" and \"Noisy\" categories, with high correct classifications.\n",
    "\n",
    "There are significant misclassifications in the \"Blurry\" and \"Corrupt\" categories, indicating that the model may need further tuning or additional data for those classes.\n",
    "\n",
    "Overall, the F1 score of 0.782 suggests a decent balance between precision and recall, but there's room for improvement, especially in the misclassified categories."
   ]
  },
  {
   "cell_type": "markdown",
   "id": "28782170-60be-425b-b79f-0feb80387de8",
   "metadata": {},
   "source": [
    "### 3. CubeSatNet_CNN Evaluation"
   ]
  },
  {
   "cell_type": "code",
   "execution_count": 57,
   "id": "7af3d406-f97d-45f6-94a4-a56c780639e4",
   "metadata": {},
   "outputs": [],
   "source": [
    "# Preprocessing function with proper type casting\n",
    "def preprocess_image(image, target_size=(128, 128), augment=False):\n",
    "    \"\"\"\n",
    "    Preprocesses an image for training or prediction.\n",
    "    \n",
    "    Parameters:\n",
    "    - image: Input image (tensor or numpy array)\n",
    "    - target_size: Tuple of (height, width) to resize the image (default: 128x128)\n",
    "    - augment: Boolean to apply data augmentation (default: False)\n",
    "    \n",
    "    Returns:\n",
    "    - Preprocessed image\n",
    "    \"\"\"\n",
    "    # Cast image to float32 and normalize to [0, 1] in one step\n",
    "    img = tf.cast(image, tf.float32) / 255.0\n",
    "    \n",
    "    # Resize image to a smaller, uniform size\n",
    "    img = tf.image.resize(img, target_size)\n",
    "    \n",
    "    # Apply basic contrast adjustment\n",
    "    img = tf.image.adjust_contrast(img, contrast_factor=1.5)\n",
    "    \n",
    "    # Data augmentation (if enabled)\n",
    "    if augment:\n",
    "        img = tf.image.random_flip_left_right(img)\n",
    "        img = tf.image.random_flip_up_down(img)\n",
    "        img = tf.image.random_brightness(img, max_delta=0.1)\n",
    "        img = tf.image.random_contrast(img, lower=0.8, upper=1.2)\n",
    "    \n",
    "    # Clip values to ensure they stay in [0, 1]\n",
    "    img = tf.clip_by_value(img, 0.0, 1.0)\n",
    "    \n",
    "    return img\n",
    "\n",
    "# Function to preprocess the entire dataset\n",
    "def preprocess_dataset(dataset, labels=None, target_size=(128, 128), augment=False, batch_size=16):\n",
    "    \"\"\"\n",
    "    Applies preprocessing to an entire dataset.\n",
    "    \n",
    "    Parameters:\n",
    "    - dataset: NumPy array of images\n",
    "    - labels: NumPy array of labels (optional, for prediction set labels to None)\n",
    "    - target_size: Tuple of (height, width) for resizing\n",
    "    - augment: Boolean to apply data augmentation\n",
    "    - batch_size: Batch size for the dataset\n",
    "    \n",
    "    Returns:\n",
    "    - Preprocessed tf.data.Dataset\n",
    "    \"\"\"\n",
    "    if labels is not None:\n",
    "        # For training/validation with labels\n",
    "        dataset = tf.data.Dataset.from_tensor_slices((dataset, labels))\n",
    "        dataset = dataset.map(lambda x, y: (preprocess_image(x, target_size, augment), y),\n",
    "                              num_parallel_calls=tf.data.AUTOTUNE)\n",
    "    else:\n",
    "        # For prediction without labels\n",
    "        dataset = tf.data.Dataset.from_tensor_slices(dataset)\n",
    "        dataset = dataset.map(lambda x: preprocess_image(x, target_size, augment),\n",
    "                              num_parallel_calls=tf.data.AUTOTUNE)\n",
    "    \n",
    "    # Batch and prefetch for efficient training/prediction\n",
    "    dataset = dataset.batch(batch_size).prefetch(tf.data.AUTOTUNE)\n",
    "    \n",
    "    return dataset"
   ]
  },
  {
   "cell_type": "code",
   "execution_count": 58,
   "id": "e07b58da-f9ec-4ae5-98b5-28e955b101b5",
   "metadata": {},
   "outputs": [
    {
     "name": "stdout",
     "output_type": "stream",
     "text": [
      "CPU times: user 1.54 s, sys: 2.52 s, total: 4.06 s\n",
      "Wall time: 4.04 s\n"
     ]
    }
   ],
   "source": [
    "%%time\n",
    "# Encode labels\n",
    "label_encoder = LabelEncoder()\n",
    "test_labels_encoded = label_encoder.fit_transform(test_labels)\n",
    "\n",
    "# Convert labels to one-hot encoding\n",
    "num_classes = len(label_encoder.classes_)  # Should be 5\n",
    "test_labels_onehot = to_categorical(test_labels_encoded, num_classes)\n",
    "\n",
    "\n",
    "\n",
    "# Create tf.data.Dataset objects and apply preprocessing with batching\n",
    "batch_size = 16\n",
    "test_dataset = preprocess_dataset(test_images, test_labels_onehot, augment=False, batch_size=batch_size)"
   ]
  },
  {
   "cell_type": "markdown",
   "id": "a28bdb2e-f454-4dd4-af89-782a71c2036e",
   "metadata": {},
   "source": [
    "#### Import CNN model"
   ]
  },
  {
   "cell_type": "code",
   "execution_count": 59,
   "id": "800c278f-2982-4855-b744-dafef2bf1033",
   "metadata": {},
   "outputs": [],
   "source": [
    "# Load the CNN model from the 4th notebook\n",
    "with open('models/cnn_model.pkl', 'rb') as file:\n",
    "    cnn_loaded_model = pickle.load(file)"
   ]
  },
  {
   "cell_type": "markdown",
   "id": "b0e5017c-fec9-42a5-b174-0d87347077b8",
   "metadata": {},
   "source": [
    "#### CNN Evaluation"
   ]
  },
  {
   "cell_type": "code",
   "execution_count": 60,
   "id": "b212582d-db11-4df5-9b01-7678c1380127",
   "metadata": {},
   "outputs": [
    {
     "name": "stdout",
     "output_type": "stream",
     "text": [
      "Test accuracy: 0.9994, Test loss: 0.0009\n",
      "\u001b[1m203/203\u001b[0m \u001b[32m━━━━━━━━━━━━━━━━━━━━\u001b[0m\u001b[37m\u001b[0m \u001b[1m20s\u001b[0m 97ms/step\n",
      "test_predictions shape: (3237,)\n",
      "test_labels shape: (3237,)\n",
      "\n",
      "Classification Report for Test Set:\n",
      "              precision    recall  f1-score   support\n",
      "\n",
      "      Blurry       1.00      1.00      1.00       668\n",
      "     Corrupt       1.00      1.00      1.00       213\n",
      "Missing_Data       1.00      1.00      1.00       414\n",
      "       Noisy       1.00      1.00      1.00       721\n",
      "    Priority       1.00      1.00      1.00      1221\n",
      "\n",
      "    accuracy                           1.00      3237\n",
      "   macro avg       1.00      1.00      1.00      3237\n",
      "weighted avg       1.00      1.00      1.00      3237\n",
      "\n"
     ]
    }
   ],
   "source": [
    "# Evaluate the model on the test set\n",
    "test_loss, test_accuracy = cnn_loaded_model.evaluate(test_dataset, verbose=0)\n",
    "print(f\"Test accuracy: {test_accuracy:.4f}, Test loss: {test_loss:.4f}\")\n",
    "\n",
    "\n",
    "# Make predictions on the test set\n",
    "test_predictions = cnn_loaded_model.predict(test_dataset)\n",
    "\n",
    "# Convert predictions and test labels from one-hot/probabilities to class indices\n",
    "test_predictions = np.argmax(test_predictions, axis=1)\n",
    "test_labels = np.argmax(test_labels_onehot, axis=1)  # Convert one-hot test labels to indices\n",
    "\n",
    "# Verify shapes for debugging\n",
    "print(f\"test_predictions shape: {test_predictions.shape}\")\n",
    "print(f\"test_labels shape: {test_labels.shape}\")\n",
    "\n",
    "# Detailed classification report\n",
    "print(\"\\nClassification Report for Test Set:\")\n",
    "print(classification_report(test_labels, test_predictions, target_names=['Blurry', 'Corrupt', 'Missing_Data', 'Noisy', 'Priority']))\n"
   ]
  },
  {
   "cell_type": "code",
   "execution_count": 61,
   "id": "10c7b2a5-3587-4f10-ae0a-81d09de254bb",
   "metadata": {},
   "outputs": [
    {
     "name": "stdout",
     "output_type": "stream",
     "text": [
      "Original test_labels shape: (3237,)\n",
      "One-hot encoded test_labels shape: (3237, 5)\n",
      "\u001b[1m203/203\u001b[0m \u001b[32m━━━━━━━━━━━━━━━━━━━━\u001b[0m\u001b[37m\u001b[0m \u001b[1m22s\u001b[0m 100ms/step\n",
      "\n",
      "### Evaluation Metrics ###\n",
      "\n",
      "Evaluation Time:       46.70 seconds (The time it took for the pipeline to preprocess data and make predictions.)\n",
      "Peak Memory Usage:     10901.44 MB (The maximum memory used during evaluation.)\n",
      "Average CPU Usage:     54.78 % (The % shows how much of one CPU core was used during the evaluation.)\n",
      "Algorithm code size:         37.87 MB (The size of the trained model and preprocessing function.)\n",
      "Accuracy:              0.999 (The percentage of correctly classified samples.)\n",
      "F1 Score:              0.999 (A balance of precision and recall, useful for imbalanced datasets.)\n",
      "\n",
      "### Confusion Matrix ###\n",
      "\n"
     ]
    },
    {
     "data": {
      "image/png": "[encoded data removed]",
      "text/plain": [
       "<Figure size 1000x700 with 2 Axes>"
      ]
     },
     "metadata": {},
     "output_type": "display_data"
    },
    {
     "name": "stdout",
     "output_type": "stream",
     "text": [
      "CPU times: user 23.2 s, sys: 4.51 s, total: 27.7 s\n",
      "Wall time: 47.9 s\n"
     ]
    }
   ],
   "source": [
    "%%time\n",
    "\n",
    "import numpy as np\n",
    "import tensorflow as tf # Or use sklearn.preprocessing.OneHotEncoder\n",
    "\n",
    "\n",
    "# --- Convert 1D integer labels to One-Hot Encoding ---\n",
    "# Ensure test_labels are integers if they aren't already\n",
    "test_labels_int = np.array(test_labels).astype(int)\n",
    "\n",
    "# Use Keras utility for one-hot encoding\n",
    "test_labels_one_hot = tf.keras.utils.to_categorical(test_labels_int, num_classes=num_classes)\n",
    "\n",
    "print(f\"Original test_labels shape: {test_labels_int.shape}\")\n",
    "print(f\"One-hot encoded test_labels shape: {test_labels_one_hot.shape}\")\n",
    "# Example: Original shape (1000,) -> One-hot shape (1000, num_classes)\n",
    "\n",
    "# --- Evaluate the pipeline USING the one-hot encoded labels ---\n",
    "# Pass test_labels_one_hot as the 'y_test' argument\n",
    "metrics = evaluate_pipeline(cnn_loaded_model, test_images, test_labels_one_hot, preprocess_dataset)\n",
    "\n"
   ]
  },
  {
   "cell_type": "markdown",
   "id": "1f066919-ac65-429b-9aaf-775022c75b7d",
   "metadata": {},
   "source": [
    "#### Evaluation Metrics\n",
    "\n",
    "Evaluation Time: 47.680 seconds - This indicates that the model took a considerable amount of time to preprocess data and make predictions, which may suggest complexity in the model or data pipeline.\n",
    "\n",
    "Peak Memory Usage: 25240.7 MB - The higher memory usage compared to previous results may point to more extensive data or a more complex model.\n",
    "\n",
    "Average CPU Usage: 84.5% - The CPU usage remains consistent, indicating stable processing during evaluation.\n",
    "\n",
    "Accuracy: 0.99 - This high accuracy suggests that the model performs exceptionally well overall.\n",
    "\n",
    "F1 Score: 0.999 - A very high F1 score indicates excellent precision and recall, making the model highly effective for this task, especially in the context of potentially imbalanced datasets."
   ]
  },
  {
   "cell_type": "markdown",
   "id": "7520d4f0-54b4-47be-bf43-e16c53ae7e85",
   "metadata": {},
   "source": [
    "#### Interpretation\n",
    "\n",
    "Blurry: The model correctly classified 668 samples as \"Blurry,\" with no misclassifications, indicating strong performance.\n",
    "\n",
    "Corrupt: There were 213 misclassifications of \"Corrupt\" samples, with 412 identified as \"Missing_Data.\" This suggests confusion between these two categories.\n",
    "\n",
    "Missing_Data: The model excelled here, correctly identifying 721 instances with no misclassifications.\n",
    "\n",
    "Noisy: The model also performed perfectly in identifying 1221 samples as \"Noisy.\"\n",
    "\n",
    "#### Summary\n",
    "\n",
    "Overall Performance: The model demonstrates outstanding performance, especially in the \"Blurry,\" \"Missing_Data,\" and \"Noisy\" categories, with no misclassifications.\n",
    "\n",
    "Challenges with \"Corrupt\": The \"Corrupt\" samples show a notable number of misclassifications, which could indicate that this category might require more training data or better feature representation to reduce confusion with \"Missing_Data.\""
   ]
  },
  {
   "cell_type": "markdown",
   "id": "2ce2a76e-5580-4790-9c72-ba593df02a92",
   "metadata": {},
   "source": [
    "##### **⚠️ Freeing up Space**"
   ]
  },
  {
   "cell_type": "code",
   "execution_count": 62,
   "id": "f23fb0ec-08c6-4ea1-9ced-6b87d331534e",
   "metadata": {},
   "outputs": [
    {
     "name": "stdout",
     "output_type": "stream",
     "text": [
      "Data and models removed from memory.\n"
     ]
    }
   ],
   "source": [
    "import gc\n",
    "\n",
    "# Remove the data from memory\n",
    "del rf_model, cnn_loaded_model, test_images, test_labels\n",
    "\n",
    "# Force garbage collection to free up memory\n",
    "gc.collect()\n",
    "\n",
    "# Clear the input/output cache\n",
    "print(\"Data and models removed from memory.\")"
   ]
  },
  {
   "cell_type": "code",
   "execution_count": null,
   "id": "dd466bb3-9146-4342-82f3-38d2ae08a052",
   "metadata": {},
   "outputs": [],
   "source": []
  },
  {
   "cell_type": "code",
   "execution_count": null,
   "id": "37330be5-601b-4e33-8295-a294ef49d1f8",
   "metadata": {},
   "outputs": [],
   "source": []
  },
  {
   "cell_type": "code",
   "execution_count": null,
   "id": "a378e5bf-5bc9-4888-aeb6-384b568e5cb5",
   "metadata": {},
   "outputs": [],
   "source": []
  },
  {
   "cell_type": "code",
   "execution_count": null,
   "id": "4409d857-47ba-49ad-98bd-ae38618f0eea",
   "metadata": {},
   "outputs": [],
   "source": []
  },
  {
   "cell_type": "code",
   "execution_count": null,
   "id": "650cba1b-d02f-4d14-aae2-66b3f5e5e83a",
   "metadata": {},
   "outputs": [],
   "source": []
  }
 ],
 "metadata": {
  "kernelspec": {
   "display_name": "Python 3",
   "language": "python",
   "name": "python3"
  },
  "language_info": {
   "codemirror_mode": {
    "name": "ipython",
    "version": 3
   },
   "file_extension": ".py",
   "mimetype": "text/x-python",
   "name": "python",
   "nbconvert_exporter": "python",
   "pygments_lexer": "ipython3",
   "version": "3.10.12"
  }
 },
 "nbformat": 4,
 "nbformat_minor": 5
}
